{
 "cells": [
  {
   "cell_type": "markdown",
   "metadata": {},
   "source": [
    "# \\<Daniel DeLong>    \\<f007xdd>\n",
    "    "
   ]
  },
  {
   "cell_type": "markdown",
   "metadata": {
    "id": "7pgbT4QA22v8"
   },
   "source": [
    "## Matrix Multiplication\n",
    "\n",
    "To multiply a matrix with another matrix, we need to dot product the rows with the columns. That being said, the number of columns in the first matrix should be equal to the number of rows in the second matrix. You get a matrix having number of rows as the first matrix and number of columns as the second matrix.\n",
    "\n",
    "Here is an example:\n",
    "\n",
    "\n",
    "\\begin{align}\n",
    "  \\begin{bmatrix}\n",
    "    1 & 2 & 3\\\\\n",
    "    4 & 5 & 6\n",
    "  \\end{bmatrix}\n",
    "  \\times\n",
    "  \\begin{bmatrix}\n",
    "    7 & 8\\\\ \n",
    "    9 & 10\\\\\n",
    "    11 & 12  \n",
    "  \\end{bmatrix}\n",
    "  =\n",
    "  \\begin{bmatrix}\n",
    "    58 & 64\\\\ \n",
    "    139 & 154   \n",
    "  \\end{bmatrix}\n",
    "\\end{align}\n",
    "\n",
    "In Python, there are several libraries to find this multiplication. Initially, you will create your own function which takes two matrices/arrays as inputs and returns the dot product of the two. "
   ]
  },
  {
   "cell_type": "code",
   "execution_count": null,
   "metadata": {
    "id": "AeMXh6tLW5IB"
   },
   "outputs": [],
   "source": [
    "## Importing required libraries for the assignment\n",
    "## You can add any if needed\n",
    "\n",
    "import numpy as np"
   ]
  },
  {
   "cell_type": "code",
   "execution_count": null,
   "metadata": {
    "colab": {
     "base_uri": "https://localhost:8080/"
    },
    "id": "5TTRV1NgU6Ml",
    "outputId": "71abcd61-9dca-4e8b-ccd0-a26e5ae9fbbd",
    "scrolled": true
   },
   "outputs": [],
   "source": [
    "## Write a function to return the matrix multiplication of two matrices\n",
    "## You only have to complete the function matrix_multiplication\n",
    "## The input and output are taken care of with an example\n",
    "\n",
    "def matrix_multiplication(matrix1, matrix2):\n",
    "    ## Build your function from scratch as you would do on paper\n",
    "    ## Don't forget to return the resultant matrix"
   ]
  },
  {
   "cell_type": "markdown",
   "metadata": {
    "id": "69I_p2ZXYkqN"
   },
   "source": [
    "Now, we will see some functions that are built in the libraries provided by Python.\n",
    "\n",
    "The following functions are built-in functions in libraries that may assist you with checking your code's correctness:\n",
    "\n",
    "1.   np.dot()\n",
    "2.   np.matmul()\n",
    "3.   np.multiply()\n",
    "4.   matrix1@matrix2\n",
    "\n",
    "Feel free to explore these in place of the function implementation above and more if you come across any.\n",
    "\n"
   ]
  },
  {
   "cell_type": "markdown",
   "metadata": {
    "id": "mRBrpk_zaRWa"
   },
   "source": [
    "## Matrix Inverse\n",
    "\n",
    "The inverse of A is A-1 only when:\n",
    "\n",
    "\\begin{align}\n",
    "  AA^{-1} = A^{-1}A = I\n",
    "\\end{align}\n",
    "\n",
    "Sometimes there is no inverse at all. Let us see an example for 2X2 matrix:\n",
    "\n",
    "\\begin{align}\n",
    "  \\begin{bmatrix}\n",
    "    1 & 2\\\\\n",
    "    3 & 4\n",
    "  \\end{bmatrix}^{-1}\n",
    "  =\n",
    "  \\frac{1}{1x4 - 2x3}\n",
    "  \\begin{bmatrix}\n",
    "    4 & -2\\\\\n",
    "    -3 & 1\n",
    "  \\end{bmatrix}\n",
    "\\end{align}"
   ]
  },
  {
   "cell_type": "code",
   "execution_count": null,
   "metadata": {
    "id": "CYqZnY05dPe1"
   },
   "outputs": [],
   "source": [
    "## Write a function to return the inverse of a matrix\n",
    "## You only have to complete the function matrix_inverse\n",
    "## The input and output are taken care of with an example\n",
    "\n",
    "def matrix_inverse(matrix):\n",
    "    ## Build your function from scratch as you would do on paper\n",
    "    ## Don't forget to return the resultant matrix"
   ]
  },
  {
   "cell_type": "markdown",
   "metadata": {
    "id": "_JAtTt4meD1Z"
   },
   "source": [
    "We can use the following functions from different libraries for finding the inverse of a matrix as well (for testing purpose only)\n",
    "-   numpy.linalg.inv(a)\n",
    "-   scipy.linalg.inv(a)\n",
    "\n",
    "\n",
    "Feel free to explore these in place of the function implementation above and more if you come across any."
   ]
  },
  {
   "cell_type": "markdown",
   "metadata": {
    "id": "OlVvjPKvhsQh"
   },
   "source": [
    "## Singular Value Decomposition\n",
    "\n",
    "It is a widely used method for dimensionality reduction. It decomposes one complex transformation into 3 simpler transformations (rotation, scaling, and rotation). It is represented by the formula:\n",
    "\n",
    "\\begin{align}\n",
    "  A = UΣV^{T}\n",
    "\\end{align}\n",
    "\n",
    "where, \n",
    "- U and V* are orthogonal matrices.\n",
    "- D is a diagonal matrix of singular values.\n",
    "\n",
    "Functions that can be used to check your code's correctness:\n",
    "\n",
    "1.   np.linalg.svd(A)\n",
    "2.   scipy.linals.svd(A)\n",
    "\n",
    "You can mention if you find more information on libraries in Python that are used to calculate SVD."
   ]
  },
  {
   "cell_type": "code",
   "execution_count": null,
   "metadata": {
    "id": "1h01exezjLaV"
   },
   "outputs": [],
   "source": [
    "## Write a function to return the svd of a matrix\n",
    "## You only have to complete the function matrix_svd\n",
    "## The input and output are taken care of with an example\n",
    "\n",
    "def matrix_svd(matrix):\n",
    "    '''\n",
    "        Input: matrix\n",
    "        Output: (U, sigma, V.T)\n",
    "    '''\n",
    "    ## Write your code here\n",
    "    ## Don't forget to return the resultant matrix"
   ]
  },
  {
   "cell_type": "markdown",
   "metadata": {
    "id": "YEGPpESKexL5"
   },
   "source": [
    "## Matrix Pseudo Inverse"
   ]
  },
  {
   "cell_type": "code",
   "execution_count": null,
   "metadata": {
    "id": "RYse0rLygG-j"
   },
   "outputs": [],
   "source": [
    "## Write a function to return the pseudo inverse of a matrix\n",
    "## You only have to complete the function matrix_pseudo_inverse\n",
    "## The input and output are taken care of with an example\n",
    "\n",
    "\n",
    "# Assume matrix is square and invertible\n",
    "def matrix_pseudo_inverse(matrix):\n",
    "    ## Write your code here\n",
    "    ## Don't forget to return the resultant matrix"
   ]
  },
  {
   "cell_type": "markdown",
   "metadata": {
    "id": "uWXex4kSgdxk"
   },
   "source": [
    "We can use the following functions from different libraries for finding the inverse of a matrix as well (for testing purpose only)\n",
    "\n",
    "- numpy.linalg.pinv(a)\n",
    "- scipy.linalg.pinv(a)\n",
    "\n",
    "Feel free to explore these in place of the function implementation above and more if you come across any."
   ]
  },
  {
   "cell_type": "markdown",
   "metadata": {
    "id": "wCGu4SnzmEoV"
   },
   "source": [
    "**Happy Learning!**"
   ]
  },
  {
   "cell_type": "markdown",
   "metadata": {},
   "source": [
    "# \\<Your Name>    \\<Your ID>"
   ]
  }
 ],
 "metadata": {
  "colab": {
   "provenance": []
  },
  "kernelspec": {
   "display_name": "Python 3 (ipykernel)",
   "language": "python",
   "name": "python3"
  },
  "language_info": {
   "codemirror_mode": {
    "name": "ipython",
    "version": 3
   },
   "file_extension": ".py",
   "mimetype": "text/x-python",
   "name": "python",
   "nbconvert_exporter": "python",
   "pygments_lexer": "ipython3",
   "version": "3.10.0"
  }
 },
 "nbformat": 4,
 "nbformat_minor": 4
}
